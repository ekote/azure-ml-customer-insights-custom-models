{
  "cells": [
    {
      "cell_type": "code",
      "source": [
        "import os\r\n",
        "\r\n",
        "import joblib\r\n",
        "from azureml.core import Dataset, Environment, Experiment, Workspace, ScriptRunConfig\r\n",
        "from azureml.core.compute import AmlCompute, ComputeTarget\r\n",
        "from azureml.core.compute_target import ComputeTargetException\r\n",
        "from azureml.core.model import Model\r\n",
        "from azureml.data.dataset_consumption_config import DatasetConsumptionConfig\r\n",
        "from azureml.pipeline.core import Pipeline, PipelineEndpoint, PipelineParameter\r\n",
        "from azureml.pipeline.steps import PythonScriptStep\r\n",
        "from azureml.core.runconfig import RunConfiguration"
      ],
      "outputs": [],
      "execution_count": null,
      "metadata": {
        "gather": {
          "logged": 1640856611405
        }
      }
    },
    {
      "cell_type": "code",
      "source": [
        "ws = Workspace.from_config()\r\n",
        "\r\n",
        "aml_compute_target = \"clusteraml\"\r\n",
        "\r\n",
        "try:\r\n",
        "    aml_compute = AmlCompute(ws, aml_compute_target)\r\n",
        "    print(\"Found existing compute target: {}\".format(aml_compute_target))\r\n",
        "except ComputeTargetException:\r\n",
        "    print(\"Creating new compute target: {}\".format(aml_compute_target))\r\n",
        "    \r\n",
        "    provisioning_config = AmlCompute.provisioning_configuration(vm_size = \"STANDARD_D2_V2\",\r\n",
        "                                                                min_nodes = 1, \r\n",
        "                                                                max_nodes = 1)    \r\n",
        "    aml_compute = ComputeTarget.create(ws, aml_compute_target, provisioning_config)\r\n",
        "    aml_compute.wait_for_completion(show_output=True, min_node_count=None, timeout_in_minutes=20)\r\n"
      ],
      "outputs": [],
      "execution_count": null,
      "metadata": {
        "jupyter": {
          "source_hidden": false,
          "outputs_hidden": false
        },
        "nteract": {
          "transient": {
            "deleting": false
          }
        },
        "gather": {
          "logged": 1640857211120
        }
      }
    },
    {
      "cell_type": "code",
      "source": [
        "CustomerInference_dataset = Dataset.get_by_name(ws, name='customer_tabular')\r\n",
        "CustomerInference_pipeline_param = PipelineParameter(name=\"CustomerInference_pipeline_param\", default_value=CustomerInference_dataset)\r\n",
        "CustomerInference_ds_consumption = DatasetConsumptionConfig(\"CustomerInference_dataset\", CustomerInference_pipeline_param)\r\n",
        "\r\n",
        "OutputPathParameter = PipelineParameter(name=\"output_path\", default_value=\"CustomerIncomeOutput/CustomerIncomeOutput.csv\")\r\n",
        "OutputDatastoreParameter = PipelineParameter(name=\"output_datastore\", default_value=\"workspaceblobstore\")\r\n",
        "\r\n",
        "env = Environment.from_conda_specification(name = 'env', file_path = './CustomerIncomeInferencePipeline.yml')\r\n",
        "\r\n",
        "run_config = RunConfiguration()\r\n",
        "run_config.environment = env\r\n",
        "\r\n",
        "scoring_step = PythonScriptStep(\r\n",
        "    name=\"Scoring_Step\",\r\n",
        "    script_name='score.py',\r\n",
        "    arguments=[\"--input_data\", CustomerInference_ds_consumption, \"--output_path\", OutputPathParameter, \"--output_datastore\", OutputDatastoreParameter],\r\n",
        "    inputs=[CustomerInference_ds_consumption],\r\n",
        "    compute_target=aml_compute_target,\r\n",
        "    source_directory='./scripts',\r\n",
        "    runconfig = run_config,\r\n",
        "    allow_reuse=False)\r\n",
        "\r\n",
        "print(\"Scoring step created\")\r\n",
        "\r\n",
        "pipeline = Pipeline(workspace=ws, steps=[scoring_step])\r\n",
        "\r\n",
        "print(\"Pipeline is built\")"
      ],
      "outputs": [],
      "execution_count": null,
      "metadata": {
        "jupyter": {
          "source_hidden": false,
          "outputs_hidden": false
        },
        "nteract": {
          "transient": {
            "deleting": false
          }
        },
        "gather": {
          "logged": 1640857402264
        }
      }
    },
    {
      "cell_type": "code",
      "source": [
        "pipeline_endpoint_name = 'IncomeEndpoint14'\r\n",
        "experiment_name = 'ci-aml-custom-models'\r\n",
        "\r\n",
        "pipeline_endpoint = PipelineEndpoint.publish(workspace=ws, name=pipeline_endpoint_name, pipeline=pipeline, description=\"Income Endpoint\")\r\n",
        "published_pipeline = pipeline.publish(name=pipeline_endpoint_name, description=\"published pipeline\")\r\n",
        "pipeline_endpoint = PipelineEndpoint.get(workspace=ws, name=pipeline_endpoint_name) \r\n",
        "pipeline_endpoint.add_default(pipeline=published_pipeline)\r\n",
        "published_pipeline"
      ],
      "outputs": [],
      "execution_count": null,
      "metadata": {
        "jupyter": {
          "source_hidden": false,
          "outputs_hidden": false
        },
        "nteract": {
          "transient": {
            "deleting": false
          }
        },
        "gather": {
          "logged": 1640857418128
        }
      }
    },
    {
      "cell_type": "code",
      "source": [
        "experiment = Experiment(ws, experiment_name)\r\n",
        "\r\n",
        "pipeline_run = experiment.submit(pipeline_endpoint)\r\n",
        "\r\n",
        "pipeline_run.get_details()"
      ],
      "outputs": [],
      "execution_count": null,
      "metadata": {
        "jupyter": {
          "source_hidden": false,
          "outputs_hidden": false
        },
        "nteract": {
          "transient": {
            "deleting": false
          }
        },
        "gather": {
          "logged": 1640857419212
        }
      }
    },
    {
      "cell_type": "code",
      "source": [
        "pipeline_run.wait_for_completion(show_output=True)\r\n"
      ],
      "outputs": [],
      "execution_count": null,
      "metadata": {
        "jupyter": {
          "source_hidden": false,
          "outputs_hidden": false
        },
        "nteract": {
          "transient": {
            "deleting": false
          }
        },
        "gather": {
          "logged": 1640857448123
        }
      }
    }
  ],
  "metadata": {
    "kernelspec": {
      "name": "python3-azureml",
      "language": "python",
      "display_name": "Python 3.6 - AzureML"
    },
    "language_info": {
      "name": "python",
      "version": "3.6.9",
      "mimetype": "text/x-python",
      "codemirror_mode": {
        "name": "ipython",
        "version": 3
      },
      "pygments_lexer": "ipython3",
      "nbconvert_exporter": "python",
      "file_extension": ".py"
    },
    "kernel_info": {
      "name": "python3-azureml"
    },
    "nteract": {
      "version": "nteract-front-end@1.0.0"
    },
    "microsoft": {
      "host": {
        "AzureML": {
          "notebookHasBeenCompleted": true
        }
      }
    }
  },
  "nbformat": 4,
  "nbformat_minor": 2
}