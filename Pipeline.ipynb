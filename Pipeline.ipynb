{
 "cells": [
  {
   "cell_type": "code",
   "source": [
    "import os\n",
    "\n",
    "import joblib\n",
    "from azureml.core import Dataset, Environment, Experiment, Workspace, ScriptRunConfig\n",
    "from azureml.core.compute import AmlCompute, ComputeTarget\n",
    "from azureml.core.compute_target import ComputeTargetException\n",
    "from azureml.core.model import Model\n",
    "from azureml.core.runconfig import RunConfiguration\n",
    "from azureml.data.dataset_consumption_config import DatasetConsumptionConfig\n",
    "from azureml.pipeline.core import Pipeline, PipelineEndpoint, PipelineParameter\n",
    "from azureml.pipeline.steps import PythonScriptStep"
   ],
   "outputs": [],
   "execution_count": null,
   "metadata": {
    "gather": {
     "logged": 1640856611405
    }
   }
  },
  {
   "cell_type": "code",
   "source": [
    "ws = Workspace.from_config()\n",
    "\n",
    "aml_compute_target = \"clusteraml\"\n",
    "\n",
    "try:\n",
    "    aml_compute = AmlCompute(ws, aml_compute_target)\n",
    "    print(\"Found existing compute target: {}\".format(aml_compute_target))\n",
    "except ComputeTargetException:\n",
    "    print(\"Creating new compute target: {}\".format(aml_compute_target))\n",
    "\n",
    "    provisioning_config = AmlCompute.provisioning_configuration(vm_size=\"STANDARD_D2_V2\",\n",
    "                                                                min_nodes=1,\n",
    "                                                                max_nodes=1)\n",
    "    aml_compute = ComputeTarget.create(ws, aml_compute_target, provisioning_config)\n",
    "    aml_compute.wait_for_completion(show_output=True, min_node_count=None, timeout_in_minutes=20)\n"
   ],
   "outputs": [],
   "execution_count": null,
   "metadata": {
    "jupyter": {
     "source_hidden": false,
     "outputs_hidden": false
    },
    "nteract": {
     "transient": {
      "deleting": false
     }
    },
    "gather": {
     "logged": 1640857211120
    }
   }
  },
  {
   "cell_type": "code",
   "source": [
    "CustomerInference_dataset = Dataset.get_by_name(ws, name='customer_tabular')  #TODO\n",
    "CustomerInference_pipeline_param = PipelineParameter(name=\"CustomerInference_pipeline_param\",\n",
    "                                                     default_value=CustomerInference_dataset)\n",
    "CustomerInference_ds_consumption = DatasetConsumptionConfig(\"CustomerInference_dataset\",\n",
    "                                                            CustomerInference_pipeline_param)\n",
    "\n",
    "OutputPathParameter = PipelineParameter(name=\"output_path\",\n",
    "                                        default_value=\"CustomerIncomeOutput/CustomerIncomeOutput.csv\")\n",
    "OutputDatastoreParameter = PipelineParameter(name=\"output_datastore\", default_value=\"workspaceblobstore\")\n",
    "\n",
    "env = Environment.from_conda_specification(name='env', file_path='./CustomerIncomeInferencePipeline.yml')\n",
    "\n",
    "run_config = RunConfiguration()\n",
    "run_config.environment = env\n",
    "\n",
    "scoring_step = PythonScriptStep(\n",
    "    name=\"Scoring_Step\",\n",
    "    script_name='score.py',\n",
    "    arguments=[\"--input_data\", CustomerInference_ds_consumption, \"--output_path\", OutputPathParameter,\n",
    "               \"--output_datastore\", OutputDatastoreParameter],\n",
    "    inputs=[CustomerInference_ds_consumption],\n",
    "    compute_target=aml_compute_target,\n",
    "    source_directory='./scripts',\n",
    "    runconfig=run_config,\n",
    "    allow_reuse=False)\n",
    "\n",
    "print(\"Scoring step created\")\n",
    "\n",
    "pipeline = Pipeline(workspace=ws, steps=[scoring_step])\n",
    "\n",
    "print(\"Pipeline is built\")"
   ],
   "outputs": [],
   "execution_count": null,
   "metadata": {
    "jupyter": {
     "source_hidden": false,
     "outputs_hidden": false
    },
    "nteract": {
     "transient": {
      "deleting": false
     }
    },
    "gather": {
     "logged": 1640857402264
    }
   }
  },
  {
   "cell_type": "code",
   "source": [
    "pipeline_endpoint_name = 'IncomeEndpoint14'\n",
    "experiment_name = 'ci-aml-custom-models'\n",
    "\n",
    "pipeline_endpoint = PipelineEndpoint.publish(workspace=ws, name=pipeline_endpoint_name, pipeline=pipeline,\n",
    "                                             description=\"Income Endpoint\")\n",
    "published_pipeline = pipeline.publish(name=pipeline_endpoint_name, description=\"published pipeline\")\n",
    "pipeline_endpoint = PipelineEndpoint.get(workspace=ws, name=pipeline_endpoint_name)\n",
    "pipeline_endpoint.add_default(pipeline=published_pipeline)\n",
    "published_pipeline"
   ],
   "outputs": [],
   "execution_count": null,
   "metadata": {
    "jupyter": {
     "source_hidden": false,
     "outputs_hidden": false
    },
    "nteract": {
     "transient": {
      "deleting": false
     }
    },
    "gather": {
     "logged": 1640857418128
    }
   }
  },
  {
   "cell_type": "code",
   "source": [
    "experiment = Experiment(ws, experiment_name)\r\n",
    "\r\n",
    "pipeline_run = experiment.submit(pipeline_endpoint)\r\n",
    "\r\n",
    "pipeline_run.get_details()"
   ],
   "outputs": [],
   "execution_count": null,
   "metadata": {
    "jupyter": {
     "source_hidden": false,
     "outputs_hidden": false
    },
    "nteract": {
     "transient": {
      "deleting": false
     }
    },
    "gather": {
     "logged": 1640857419212
    }
   }
  },
  {
   "cell_type": "code",
   "source": [
    "pipeline_run.wait_for_completion(show_output=True)\r\n"
   ],
   "outputs": [],
   "execution_count": null,
   "metadata": {
    "jupyter": {
     "source_hidden": false,
     "outputs_hidden": false
    },
    "nteract": {
     "transient": {
      "deleting": false
     }
    },
    "gather": {
     "logged": 1640857448123
    }
   }
  }
 ],
 "metadata": {
  "kernelspec": {
   "name": "python3-azureml",
   "language": "python",
   "display_name": "Python 3.6 - AzureML"
  },
  "language_info": {
   "name": "python",
   "version": "3.6.9",
   "mimetype": "text/x-python",
   "codemirror_mode": {
    "name": "ipython",
    "version": 3
   },
   "pygments_lexer": "ipython3",
   "nbconvert_exporter": "python",
   "file_extension": ".py"
  },
  "kernel_info": {
   "name": "python3-azureml"
  },
  "nteract": {
   "version": "nteract-front-end@1.0.0"
  },
  "microsoft": {
   "host": {
    "AzureML": {
     "notebookHasBeenCompleted": true
    }
   }
  }
 },
 "nbformat": 4,
 "nbformat_minor": 2
}